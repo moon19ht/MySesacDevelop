{
 "cells": [
  {
   "cell_type": "code",
   "execution_count": 1,
   "id": "8cce5a6d",
   "metadata": {},
   "outputs": [
    {
     "name": "stdout",
     "output_type": "stream",
     "text": [
      "출력을 하고자 할때 사용한다.\n"
     ]
    }
   ],
   "source": [
    "print(\"출력을 하고자 할때 사용한다.\")"
   ]
  },
  {
   "cell_type": "code",
   "execution_count": 2,
   "id": "654e9a64",
   "metadata": {},
   "outputs": [
    {
     "name": "stdout",
     "output_type": "stream",
     "text": [
      "11\n"
     ]
    }
   ],
   "source": [
    "print(5+6)"
   ]
  },
  {
   "cell_type": "markdown",
   "id": "bfe0b6e0",
   "metadata": {},
   "source": [
    "변수란 컴퓨터의 기억장소에  이름을 부여한 것을 말한다.\n",
    "\n",
    "컴퓨터의 기억공간애 이름을 부여하고 그 공간에 값을 저장하거나 읽어줄 수 있다.\n",
    "\n",
    "0과 1로 구성되어있다. 1번지에 값 3을 넣고 2번지에 값 4를 넣고 기억 공간에 이름을 붙인다.\n",
    "\n",
    "JAVA 라면 변수를 미리 선언해야한다. int a;\n",
    "\n",
    "int 형의 데이터가 저장될 공간을 확보하고 이름을 a라고 해라.\n",
    "\n",
    "보통의 인터프린터 언어는 변수를 미리 선언하지 않는다.\n",
    "\n",
    "필요할때 만들어서 쓰면된다."
   ]
  },
  {
   "cell_type": "code",
   "execution_count": 3,
   "id": "2a1d9329",
   "metadata": {},
   "outputs": [
    {
     "name": "stdout",
     "output_type": "stream",
     "text": [
      "10 20 30\n"
     ]
    }
   ],
   "source": [
    "a = 10  #a라는 변수에 값 10을 저장(할당)하라.\n",
    "b = 20  #b라는 변수에 값 20을 저장하라.\n",
    "c = a+b #a의 값 10과 b의 값 20을 읽어와서 더한 뒤 c에 넣어라\n",
    "        #좌변에는 변수만, 우변에는 아무거나 올 수 있다.\n",
    "print(a, b, c) #a, b, c의 값을 읽어와서 화면에 출력하라."
   ]
  },
  {
   "cell_type": "code",
   "execution_count": 4,
   "id": "a1c52bb1",
   "metadata": {},
   "outputs": [
    {
     "name": "stdout",
     "output_type": "stream",
     "text": [
      "4 3 43\n"
     ]
    }
   ],
   "source": [
    "# 값 입력하기 - 입력함수가 동시에 출력도 가능\n",
    "a = input(\"a = \")\n",
    "b = input(\"b = \")\n",
    "c = a+b        # 모든 입력은 unicode 다. 그래서 a, b, c도 문자로 인식한다.\n",
    "print(a, b, c) # 문자 + 문자 덧붙이기"
   ]
  },
  {
   "cell_type": "code",
   "execution_count": 5,
   "id": "afa9acb6",
   "metadata": {},
   "outputs": [
    {
     "name": "stdout",
     "output_type": "stream",
     "text": [
      "15.0\n"
     ]
    }
   ],
   "source": [
    "# 사각형의 면적 구하기(가로, 세로 입력 받아서 면적을 구함)\n",
    "width = input(\"width = \")   #밑변 입력\n",
    "height = input(\"height = \") #높이 입력\n",
    "area = int(width) * int(height) * 1/2 #면적 계산; 밑변*높이*1/2\n",
    "print(area) #면적 출력"
   ]
  },
  {
   "cell_type": "code",
   "execution_count": 6,
   "id": "3fd76c66",
   "metadata": {},
   "outputs": [
    {
     "name": "stdout",
     "output_type": "stream",
     "text": [
      "근무 시간은 9 시간당 급여는 10000 주급은 450000\n"
     ]
    }
   ],
   "source": [
    "#주급 계산하기 시간당 급여하고 근무시간을 입력받아서 주급을 계산하라.\n",
    "hourly_wage = input(\"시간당 급여 : \")\n",
    "working_times = input(\"근무 시간 : \")\n",
    "salary = int(hourly_wage) * int(working_times) * 5\n",
    "print(\"근무 시간은\", working_times, \"시간당 급여는\", hourly_wage, \"주급은\", salary)"
   ]
  },
  {
   "cell_type": "markdown",
   "id": "36eb4cee",
   "metadata": {},
   "source": [
    "이름하고 주소를 입력받아서 한문장으로 출력하는 프로그램\n",
    "이 변수는 특정 타입만 저장하지 않는다.\n",
    "\n",
    "a = 4\n",
    "\n",
    "print(a, type(a)) #type의 명령어는 변수 a의 타입이 아니라 a가 가리키는 값의 타입\n",
    "\n",
    "a = \"test\"\n",
    "\n",
    "print(a, type(a))\n",
    "\n",
    "a = 4.5\n",
    "\n",
    "print(a, type(a))\n"
   ]
  },
  {
   "cell_type": "code",
   "execution_count": 1,
   "id": "3eb50457",
   "metadata": {},
   "outputs": [
    {
     "name": "stdout",
     "output_type": "stream",
     "text": [
      "달밤돌다리님의 주소는 000입니다\n"
     ]
    }
   ],
   "source": [
    "name =  input(\"이름을 입력하세요 : \")\n",
    "addr = input(\"주소를 입력하세요 : \")\n",
    "#python 의 경우에 문자열+ 연산은 문자열끼리만 가능하다.\n",
    "print(name+\"님의 주소는 \"+addr+\"입니다\")"
   ]
  }
 ],
 "metadata": {
  "kernelspec": {
   "display_name": "base",
   "language": "python",
   "name": "python3"
  },
  "language_info": {
   "codemirror_mode": {
    "name": "ipython",
    "version": 3
   },
   "file_extension": ".py",
   "mimetype": "text/x-python",
   "name": "python",
   "nbconvert_exporter": "python",
   "pygments_lexer": "ipython3",
   "version": "3.12.7"
  }
 },
 "nbformat": 4,
 "nbformat_minor": 5
}
