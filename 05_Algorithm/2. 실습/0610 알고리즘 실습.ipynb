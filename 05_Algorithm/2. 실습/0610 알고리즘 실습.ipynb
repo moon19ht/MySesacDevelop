{
 "cells": [
  {
   "cell_type": "markdown",
   "id": "434b58fd",
   "metadata": {},
   "source": [
    "N개의 회의에 대해 각 회의의 시작시간과 종료시간이 주어진다.\n",
    "\n",
    "한 회의실에서 사용할 수 있는 최대 회의 개수를 구하시오.\n",
    "\n",
    "(회의가 겹치면 안 됨)\n",
    "\n",
    "meetings = [(1, 4), (3, 5), (0, 6), (5, 7), (8, 9), (5, 9)]\n",
    "\n",
    "1,4\n",
    "\n",
    "5,7\n",
    "\n",
    "8,9"
   ]
  },
  {
   "cell_type": "code",
   "execution_count": 9,
   "id": "a79e6063",
   "metadata": {},
   "outputs": [
    {
     "name": "stdout",
     "output_type": "stream",
     "text": [
      "최대 회의 개수: 3\n",
      "선택된 회의: [(1, 4), (5, 7), (8, 9)]\n"
     ]
    }
   ],
   "source": [
    "def max_meetings(meetings):\n",
    "    \"\"\"\n",
    "    회의가 겹치지 않게 최대한 많이 선택하는 그리디 알고리즘\n",
    "    :param meetings: (시작, 종료) 튜플의 리스트\n",
    "    \"\"\"\n",
    "    # 종료 시간을 기준으로 정렬\n",
    "    meetings = sorted(meetings, key=lambda x: x[1])\n",
    "    end_time = 0\n",
    "    selected = []\n",
    "    for start, end in meetings:\n",
    "        if start >= end_time:\n",
    "            selected.append((start, end))\n",
    "            end_time = end\n",
    "    print(\"최대 회의 개수:\", len(selected))\n",
    "    print(\"선택된 회의:\", selected)\n",
    "\n",
    "meetings = [(1, 4), (3, 5), (0, 6), (5, 7), (8, 9), (5, 9)]\n",
    "max_meetings(meetings)"
   ]
  }
 ],
 "metadata": {
  "kernelspec": {
   "display_name": "base",
   "language": "python",
   "name": "python3"
  },
  "language_info": {
   "codemirror_mode": {
    "name": "ipython",
    "version": 3
   },
   "file_extension": ".py",
   "mimetype": "text/x-python",
   "name": "python",
   "nbconvert_exporter": "python",
   "pygments_lexer": "ipython3",
   "version": "3.12.7"
  }
 },
 "nbformat": 4,
 "nbformat_minor": 5
}
