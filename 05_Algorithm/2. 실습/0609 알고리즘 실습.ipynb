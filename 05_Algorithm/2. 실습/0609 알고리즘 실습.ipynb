{
 "cells": [
  {
   "cell_type": "code",
   "execution_count": 7,
   "id": "9febb3d2",
   "metadata": {},
   "outputs": [
    {
     "name": "stdout",
     "output_type": "stream",
     "text": [
      "1+2*3 -> 123*+\n",
      "4-5/6 -> 456/-\n",
      "7*8+9 -> 78*9+\n"
     ]
    }
   ],
   "source": [
    "# 스택 클래스 정의\n",
    "class Stack:\n",
    "    def __init__(self):\n",
    "        self.items = []\n",
    "    def is_empty(self):\n",
    "        return len(self.items) == 0\n",
    "    def push(self, item):\n",
    "        self.items.append(item)\n",
    "    def pop(self):\n",
    "        return self.items.pop()\n",
    "    def peek(self):\n",
    "        return self.items[-1]\n",
    "\n",
    "# 스택을 이용한 함수(후위 연산)\n",
    "\n",
    "def to_postfix(expression: str) -> str:\n",
    "    op: dict[str, int] = {'+': 1, '-': 1, '*': 2, '/': 2, '^': 3}\n",
    "    res: str = ''\n",
    "    s = Stack()\n",
    "    for exp in expression.replace(' ', ''):\n",
    "        if exp.isnumeric():\n",
    "            res += exp\n",
    "        elif exp in op:\n",
    "            while not s.is_empty() and s.peek() in op and op[s.peek()] >= op[exp]:\n",
    "                res += s.pop()\n",
    "            s.push(exp)\n",
    "        # 괄호 처리는 생략 (필요시 추가)\n",
    "    while not s.is_empty():\n",
    "        res += s.pop()\n",
    "    return res\n",
    "\n",
    "            \n",
    "# test code\n",
    "for expr in ['1+2*3', '4-5/6', '7*8+9']:\n",
    "    print(f\"{expr} -> {to_postfix(expr)}\")"
   ]
  },
  {
   "cell_type": "code",
   "execution_count": 10,
   "id": "3f99ef62",
   "metadata": {},
   "outputs": [
    {
     "name": "stdout",
     "output_type": "stream",
     "text": [
      "1+2*3 -> 123*+\n",
      "4-5/6 -> 456/-\n",
      "7*8+9 -> 78*9+\n"
     ]
    }
   ],
   "source": [
    "# 리스트를 스택으로 사용하여 만든 함수(후위 연산)\n",
    "def to_postfix(expression: str) -> str:\n",
    "    op: dict[str, int] = {'+': 1, '-': 1, '*': 2, '/': 2, '^': 3}\n",
    "    res: str = ''\n",
    "    s: list[str] = []\n",
    "    for exp in expression.replace(' ', ''):\n",
    "        if exp.isnumeric():\n",
    "            res += exp\n",
    "        elif exp in op:\n",
    "            if s and (op[exp] <= op[s[-1]]):\n",
    "                res += s.pop()\n",
    "            s.append(exp)\n",
    "\n",
    "    while s:\n",
    "        res += s.pop()\n",
    "    return res\n",
    "    \n",
    "\n",
    "# test code\n",
    "for expr in ['1+2*3', '4-5/6', '7*8+9']:\n",
    "    print(f\"{expr} -> {to_postfix(expr)}\")"
   ]
  },
  {
   "cell_type": "code",
   "execution_count": 14,
   "id": "040efb18",
   "metadata": {},
   "outputs": [
    {
     "name": "stdout",
     "output_type": "stream",
     "text": [
      "(3 + 5) * 2 -> 35+2*\n",
      "((1 + 2) * 3) / 4 + 5 * (6 - 7) -> 12+3*4/567-*+\n"
     ]
    }
   ],
   "source": [
    "# 괄호까지 처리한 후위 연산\n",
    "def to_postfix(expression: str) -> str:\n",
    "    op: dict[str, int] = {'+': 1, '-': 1, '*': 2, '/': 2, '^': 3}\n",
    "    res: str = ''\n",
    "    s: list[str] = []\n",
    "    for exp in expression.replace(' ', ''):\n",
    "        if exp.isnumeric():\n",
    "            res += exp\n",
    "        elif exp in op:\n",
    "            while s and s[-1] in op and op[s[-1]] >= op[exp]:\n",
    "                res += s.pop()\n",
    "            s.append(exp)\n",
    "        elif exp == '(':\n",
    "            s.append(exp)\n",
    "        elif exp == ')':\n",
    "            while s and s[-1] != '(':\n",
    "                res += s.pop()\n",
    "            s.pop()  # 괄호 제거\n",
    "\n",
    "    while s:\n",
    "        res += s.pop()\n",
    "    return res\n",
    "\n",
    "# test code\n",
    "for expr in [\"(3 + 5) * 2\", \"((1 + 2) * 3) / 4 + 5 * (6 - 7)\"]:\n",
    "    print(f\"{expr} -> {to_postfix(expr)}\")"
   ]
  },
  {
   "cell_type": "code",
   "execution_count": 16,
   "id": "a3823bb0",
   "metadata": {},
   "outputs": [
    {
     "name": "stdout",
     "output_type": "stream",
     "text": [
      "35+2* -> 16\n",
      "12+3*4/567-*+ -> -3\n"
     ]
    }
   ],
   "source": [
    "# 후위 표기법의 수식 계산하기\n",
    "\n",
    "def eval_postfix(expression: str) -> int:\n",
    "    s: list[int] = []\n",
    "    for exp in expression:\n",
    "        if exp.isnumeric():\n",
    "            s.append(int(exp))\n",
    "        elif exp != \" \": # 후위 표기식에 공백이 있을 경우에 무시\n",
    "            n2 = s.pop()\n",
    "            n1 = s.pop()\n",
    "            if exp == \"+\":\n",
    "                res = n1 + n2\n",
    "            elif exp == \"-\":\n",
    "                res = n1 - n2\n",
    "            elif exp == \"*\":\n",
    "                res = n1 * n2\n",
    "            elif exp == \"/\":\n",
    "                res = n1 // n2\n",
    "            s.append(res)\n",
    "    return s[0] \n",
    "\n",
    "# test code\n",
    "for expr in (\"35+2*\", \"12+3*4/567-*+\"):\n",
    "    print(f\"{expr} -> {eval_postfix(expr)}\")"
   ]
  },
  {
   "cell_type": "code",
   "execution_count": null,
   "id": "546813c1",
   "metadata": {},
   "outputs": [],
   "source": []
  }
 ],
 "metadata": {
  "kernelspec": {
   "display_name": "base",
   "language": "python",
   "name": "python3"
  },
  "language_info": {
   "codemirror_mode": {
    "name": "ipython",
    "version": 3
   },
   "file_extension": ".py",
   "mimetype": "text/x-python",
   "name": "python",
   "nbconvert_exporter": "python",
   "pygments_lexer": "ipython3",
   "version": "3.12.7"
  }
 },
 "nbformat": 4,
 "nbformat_minor": 5
}
